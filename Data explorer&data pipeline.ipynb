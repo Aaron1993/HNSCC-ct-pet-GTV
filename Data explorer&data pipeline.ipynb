{
 "cells": [
  {
   "cell_type": "code",
   "execution_count": 1,
   "metadata": {},
   "outputs": [],
   "source": []
  },
  {
   "cell_type": "markdown",
   "metadata": {},
   "source": [
    "## load data\n"
   ]
  },
  {
   "cell_type": "code",
   "execution_count": 4,
   "metadata": {},
   "outputs": [],
   "source": [
    "import numpy as np \n",
    "import pandas as pd \n",
    "import skimage, os\n",
    "from skimage.morphology import ball, disk, dilation, binary_erosion, remove_small_objects, erosion, closing, reconstruction, binary_closing\n",
    "from skimage.measure import label,regionprops, perimeter\n",
    "from skimage.morphology import binary_dilation, binary_opening\n",
    "from skimage.filters import roberts, sobel\n",
    "from skimage import measure, feature\n",
    "from skimage.segmentation import clear_border\n",
    "from skimage import data\n",
    "from scipy import ndimage as ndi\n",
    "import matplotlib.pyplot as plt\n",
    "from mpl_toolkits.mplot3d.art3d import Poly3DCollection\n",
    "import scipy.misc\n",
    "import numpy as np\n",
    "from glob import glob\n",
    "from skimage.io import imread\n",
    "BASE_IMG_PATH=os.path.join('hecktor-master','data','resampled')"
   ]
  },
  {
   "cell_type": "code",
   "execution_count": 5,
   "metadata": {},
   "outputs": [
    {
     "data": {
      "text/plain": [
       "['hecktor-master\\\\data\\\\resampled\\\\CHGJ007_ct.nii.gz',\n",
       " 'hecktor-master\\\\data\\\\resampled\\\\CHGJ007_ct_gtvt.nii.gz',\n",
       " 'hecktor-master\\\\data\\\\resampled\\\\CHGJ007_pt.nii.gz',\n",
       " 'hecktor-master\\\\data\\\\resampled\\\\CHGJ008_ct.nii.gz',\n",
       " 'hecktor-master\\\\data\\\\resampled\\\\CHGJ008_ct_gtvt.nii.gz',\n",
       " 'hecktor-master\\\\data\\\\resampled\\\\CHGJ008_pt.nii.gz',\n",
       " 'hecktor-master\\\\data\\\\resampled\\\\CHGJ010_ct.nii.gz',\n",
       " 'hecktor-master\\\\data\\\\resampled\\\\CHGJ010_ct_gtvt.nii.gz',\n",
       " 'hecktor-master\\\\data\\\\resampled\\\\CHGJ010_pt.nii.gz',\n",
       " 'hecktor-master\\\\data\\\\resampled\\\\CHGJ013_ct.nii.gz',\n",
       " 'hecktor-master\\\\data\\\\resampled\\\\CHGJ013_ct_gtvt.nii.gz',\n",
       " 'hecktor-master\\\\data\\\\resampled\\\\CHGJ013_pt.nii.gz',\n",
       " 'hecktor-master\\\\data\\\\resampled\\\\CHGJ015_ct.nii.gz',\n",
       " 'hecktor-master\\\\data\\\\resampled\\\\CHGJ015_ct_gtvt.nii.gz',\n",
       " 'hecktor-master\\\\data\\\\resampled\\\\CHGJ015_pt.nii.gz',\n",
       " 'hecktor-master\\\\data\\\\resampled\\\\CHGJ016_ct.nii.gz',\n",
       " 'hecktor-master\\\\data\\\\resampled\\\\CHGJ016_ct_gtvt.nii.gz',\n",
       " 'hecktor-master\\\\data\\\\resampled\\\\CHGJ016_pt.nii.gz',\n",
       " 'hecktor-master\\\\data\\\\resampled\\\\CHGJ017_ct.nii.gz',\n",
       " 'hecktor-master\\\\data\\\\resampled\\\\CHGJ017_ct_gtvt.nii.gz',\n",
       " 'hecktor-master\\\\data\\\\resampled\\\\CHGJ017_pt.nii.gz',\n",
       " 'hecktor-master\\\\data\\\\resampled\\\\CHGJ018_ct.nii.gz',\n",
       " 'hecktor-master\\\\data\\\\resampled\\\\CHGJ018_ct_gtvt.nii.gz',\n",
       " 'hecktor-master\\\\data\\\\resampled\\\\CHGJ018_pt.nii.gz',\n",
       " 'hecktor-master\\\\data\\\\resampled\\\\CHGJ025_ct.nii.gz',\n",
       " 'hecktor-master\\\\data\\\\resampled\\\\CHGJ025_ct_gtvt.nii.gz',\n",
       " 'hecktor-master\\\\data\\\\resampled\\\\CHGJ025_pt.nii.gz',\n",
       " 'hecktor-master\\\\data\\\\resampled\\\\CHGJ026_ct.nii.gz',\n",
       " 'hecktor-master\\\\data\\\\resampled\\\\CHGJ026_ct_gtvt.nii.gz',\n",
       " 'hecktor-master\\\\data\\\\resampled\\\\CHGJ026_pt.nii.gz',\n",
       " 'hecktor-master\\\\data\\\\resampled\\\\CHGJ028_ct.nii.gz',\n",
       " 'hecktor-master\\\\data\\\\resampled\\\\CHGJ028_ct_gtvt.nii.gz',\n",
       " 'hecktor-master\\\\data\\\\resampled\\\\CHGJ028_pt.nii.gz',\n",
       " 'hecktor-master\\\\data\\\\resampled\\\\CHGJ029_ct.nii.gz',\n",
       " 'hecktor-master\\\\data\\\\resampled\\\\CHGJ029_ct_gtvt.nii.gz',\n",
       " 'hecktor-master\\\\data\\\\resampled\\\\CHGJ029_pt.nii.gz',\n",
       " 'hecktor-master\\\\data\\\\resampled\\\\CHGJ030_ct.nii.gz',\n",
       " 'hecktor-master\\\\data\\\\resampled\\\\CHGJ030_ct_gtvt.nii.gz',\n",
       " 'hecktor-master\\\\data\\\\resampled\\\\CHGJ030_pt.nii.gz',\n",
       " 'hecktor-master\\\\data\\\\resampled\\\\CHGJ031_ct.nii.gz',\n",
       " 'hecktor-master\\\\data\\\\resampled\\\\CHGJ031_ct_gtvt.nii.gz',\n",
       " 'hecktor-master\\\\data\\\\resampled\\\\CHGJ031_pt.nii.gz',\n",
       " 'hecktor-master\\\\data\\\\resampled\\\\CHGJ032_ct.nii.gz',\n",
       " 'hecktor-master\\\\data\\\\resampled\\\\CHGJ032_ct_gtvt.nii.gz',\n",
       " 'hecktor-master\\\\data\\\\resampled\\\\CHGJ032_pt.nii.gz',\n",
       " 'hecktor-master\\\\data\\\\resampled\\\\CHGJ034_ct.nii.gz',\n",
       " 'hecktor-master\\\\data\\\\resampled\\\\CHGJ034_ct_gtvt.nii.gz',\n",
       " 'hecktor-master\\\\data\\\\resampled\\\\CHGJ034_pt.nii.gz',\n",
       " 'hecktor-master\\\\data\\\\resampled\\\\CHGJ035_ct.nii.gz',\n",
       " 'hecktor-master\\\\data\\\\resampled\\\\CHGJ035_ct_gtvt.nii.gz',\n",
       " 'hecktor-master\\\\data\\\\resampled\\\\CHGJ035_pt.nii.gz',\n",
       " 'hecktor-master\\\\data\\\\resampled\\\\CHGJ036_ct.nii.gz',\n",
       " 'hecktor-master\\\\data\\\\resampled\\\\CHGJ036_ct_gtvt.nii.gz',\n",
       " 'hecktor-master\\\\data\\\\resampled\\\\CHGJ036_pt.nii.gz',\n",
       " 'hecktor-master\\\\data\\\\resampled\\\\CHGJ037_ct.nii.gz',\n",
       " 'hecktor-master\\\\data\\\\resampled\\\\CHGJ037_ct_gtvt.nii.gz',\n",
       " 'hecktor-master\\\\data\\\\resampled\\\\CHGJ037_pt.nii.gz',\n",
       " 'hecktor-master\\\\data\\\\resampled\\\\CHGJ038_ct.nii.gz',\n",
       " 'hecktor-master\\\\data\\\\resampled\\\\CHGJ038_ct_gtvt.nii.gz',\n",
       " 'hecktor-master\\\\data\\\\resampled\\\\CHGJ038_pt.nii.gz',\n",
       " 'hecktor-master\\\\data\\\\resampled\\\\CHGJ039_ct.nii.gz',\n",
       " 'hecktor-master\\\\data\\\\resampled\\\\CHGJ039_ct_gtvt.nii.gz',\n",
       " 'hecktor-master\\\\data\\\\resampled\\\\CHGJ039_pt.nii.gz',\n",
       " 'hecktor-master\\\\data\\\\resampled\\\\CHGJ043_ct.nii.gz',\n",
       " 'hecktor-master\\\\data\\\\resampled\\\\CHGJ043_ct_gtvt.nii.gz',\n",
       " 'hecktor-master\\\\data\\\\resampled\\\\CHGJ043_pt.nii.gz',\n",
       " 'hecktor-master\\\\data\\\\resampled\\\\CHGJ046_ct.nii.gz',\n",
       " 'hecktor-master\\\\data\\\\resampled\\\\CHGJ046_ct_gtvt.nii.gz',\n",
       " 'hecktor-master\\\\data\\\\resampled\\\\CHGJ046_pt.nii.gz',\n",
       " 'hecktor-master\\\\data\\\\resampled\\\\CHGJ048_ct.nii.gz',\n",
       " 'hecktor-master\\\\data\\\\resampled\\\\CHGJ048_ct_gtvt.nii.gz',\n",
       " 'hecktor-master\\\\data\\\\resampled\\\\CHGJ048_pt.nii.gz',\n",
       " 'hecktor-master\\\\data\\\\resampled\\\\CHGJ050_ct.nii.gz',\n",
       " 'hecktor-master\\\\data\\\\resampled\\\\CHGJ050_ct_gtvt.nii.gz',\n",
       " 'hecktor-master\\\\data\\\\resampled\\\\CHGJ050_pt.nii.gz',\n",
       " 'hecktor-master\\\\data\\\\resampled\\\\CHGJ052_ct.nii.gz',\n",
       " 'hecktor-master\\\\data\\\\resampled\\\\CHGJ052_ct_gtvt.nii.gz',\n",
       " 'hecktor-master\\\\data\\\\resampled\\\\CHGJ052_pt.nii.gz',\n",
       " 'hecktor-master\\\\data\\\\resampled\\\\CHGJ053_ct.nii.gz',\n",
       " 'hecktor-master\\\\data\\\\resampled\\\\CHGJ053_ct_gtvt.nii.gz',\n",
       " 'hecktor-master\\\\data\\\\resampled\\\\CHGJ053_pt.nii.gz',\n",
       " 'hecktor-master\\\\data\\\\resampled\\\\CHGJ055_ct.nii.gz',\n",
       " 'hecktor-master\\\\data\\\\resampled\\\\CHGJ055_ct_gtvt.nii.gz',\n",
       " 'hecktor-master\\\\data\\\\resampled\\\\CHGJ055_pt.nii.gz',\n",
       " 'hecktor-master\\\\data\\\\resampled\\\\CHGJ057_ct.nii.gz',\n",
       " 'hecktor-master\\\\data\\\\resampled\\\\CHGJ057_ct_gtvt.nii.gz',\n",
       " 'hecktor-master\\\\data\\\\resampled\\\\CHGJ057_pt.nii.gz',\n",
       " 'hecktor-master\\\\data\\\\resampled\\\\CHGJ058_ct.nii.gz',\n",
       " 'hecktor-master\\\\data\\\\resampled\\\\CHGJ058_ct_gtvt.nii.gz',\n",
       " 'hecktor-master\\\\data\\\\resampled\\\\CHGJ058_pt.nii.gz',\n",
       " 'hecktor-master\\\\data\\\\resampled\\\\CHGJ062_ct.nii.gz',\n",
       " 'hecktor-master\\\\data\\\\resampled\\\\CHGJ062_ct_gtvt.nii.gz',\n",
       " 'hecktor-master\\\\data\\\\resampled\\\\CHGJ062_pt.nii.gz',\n",
       " 'hecktor-master\\\\data\\\\resampled\\\\CHGJ065_ct.nii.gz',\n",
       " 'hecktor-master\\\\data\\\\resampled\\\\CHGJ065_ct_gtvt.nii.gz',\n",
       " 'hecktor-master\\\\data\\\\resampled\\\\CHGJ065_pt.nii.gz',\n",
       " 'hecktor-master\\\\data\\\\resampled\\\\CHGJ066_ct.nii.gz',\n",
       " 'hecktor-master\\\\data\\\\resampled\\\\CHGJ066_ct_gtvt.nii.gz',\n",
       " 'hecktor-master\\\\data\\\\resampled\\\\CHGJ066_pt.nii.gz',\n",
       " 'hecktor-master\\\\data\\\\resampled\\\\CHGJ067_ct.nii.gz',\n",
       " 'hecktor-master\\\\data\\\\resampled\\\\CHGJ067_ct_gtvt.nii.gz',\n",
       " 'hecktor-master\\\\data\\\\resampled\\\\CHGJ067_pt.nii.gz',\n",
       " 'hecktor-master\\\\data\\\\resampled\\\\CHGJ069_ct.nii.gz',\n",
       " 'hecktor-master\\\\data\\\\resampled\\\\CHGJ069_ct_gtvt.nii.gz',\n",
       " 'hecktor-master\\\\data\\\\resampled\\\\CHGJ069_pt.nii.gz',\n",
       " 'hecktor-master\\\\data\\\\resampled\\\\CHGJ070_ct.nii.gz',\n",
       " 'hecktor-master\\\\data\\\\resampled\\\\CHGJ070_ct_gtvt.nii.gz',\n",
       " 'hecktor-master\\\\data\\\\resampled\\\\CHGJ070_pt.nii.gz']"
      ]
     },
     "execution_count": 5,
     "metadata": {},
     "output_type": "execute_result"
    }
   ],
   "source": [
    "glob(os.path.join(BASE_IMG_PATH,'*'))\n"
   ]
  },
  {
   "cell_type": "code",
   "execution_count": 21,
   "metadata": {},
   "outputs": [
    {
     "name": "stdout",
     "output_type": "stream",
     "text": [
      "36  matching files found: hecktor-master\\data\\resampled\\CHGJ025_ct.nii.gz hecktor-master\\data\\resampled\\CHGJ025_pt.nii.gz\n",
      "36  matching files found: hecktor-master\\data\\resampled\\CHGJ025_ct.nii.gz hecktor-master\\data\\resampled\\CHGJ025_ct_gtvt.nii.gz\n"
     ]
    }
   ],
   "source": [
    "# show some of the files\n",
    "all_ct_images=glob(os.path.join(BASE_IMG_PATH,'*ct.nii.gz'))\n",
    "all_pt_images = [x.replace('ct.nii.gz', 'pt.nii.gz') for x in all_ct_images]\n",
    "all_mask_images = [x.replace('ct.nii.gz', 'ct_gtvt.nii.gz') for x in all_ct_images]\n",
    "\n",
    "rand_index = np.random.randint(0, len(all_ct_images))\n",
    "print(len(all_ct_images),' matching files found:',all_ct_images[rand_index], all_pt_images[rand_index])\n",
    "print(len(all_mask_images),' matching files found:',all_ct_images[rand_index], all_mask_images[rand_index])\n"
   ]
  },
  {
   "cell_type": "code",
   "execution_count": 46,
   "metadata": {},
   "outputs": [
    {
     "name": "stdout",
     "output_type": "stream",
     "text": [
      "(141, 141, 144)\n"
     ]
    },
    {
     "data": {
      "text/plain": [
       "Text(0.5, 1.0, 'Mask')"
      ]
     },
     "execution_count": 46,
     "metadata": {},
     "output_type": "execute_result"
    },
    {
     "data": {
      "image/png": "[encoded data removed]",
      "text/plain": [
       "<Figure size 864x432 with 3 Axes>"
      ]
     },
     "metadata": {
      "needs_background": "light"
     },
     "output_type": "display_data"
    }
   ],
   "source": [
    "%matplotlib inline\n",
    "try:\n",
    "    import nibabel as nib\n",
    "except:\n",
    "    raise ImportError('Install NIBABEL')\n",
    "    \n",
    "test_ct=nib.load(all_ct_images[rand_index]).dataobj\n",
    "test_pt=nib.load(all_pt_images[rand_index]).dataobj\n",
    "test_mask=nib.load(all_mask_images[rand_index]).dataobj\n",
    "print(test_ct.shape)\n",
    "\n",
    "fig, (ax1, ax2, ax3) = plt.subplots(1,3, figsize = (12, 6))\n",
    "\n",
    "ax1.imshow(test_ct[test_ct.shape[0]//2], cmap = 'gray')\n",
    "ax1.set_title('CT')\n",
    "ax2.imshow(test_pt[test_pt.shape[0]//2], cmap = 'gray')\n",
    "ax2.set_title('PT')\n",
    "ax3.imshow(test_mask[test_mask.shape[0]//2], cmap = 'gray')\n",
    "ax3.set_title('Mask')"
   ]
  },
  {
   "cell_type": "markdown",
   "metadata": {},
   "source": [
    "## Densely 3D Unet"
   ]
  },
  {
   "cell_type": "code",
   "execution_count": 1,
   "metadata": {},
   "outputs": [],
   "source": [
    "import tensorflow as tf\n",
    "import tensorflow.keras as keras\n",
    "\n",
    "from tensorflow.keras import Model, Input\n",
    "from tensorflow.keras.layers import Dense, Flatten, Conv3D, MaxPooling3D, concatenate, Conv3DTranspose\n",
    "from tensorflow.keras.optimizers import Adam\n",
    "\n",
    "\n",
    "from tensorflow.keras.models import Model\n",
    "from tensorflow.keras.layers import Input, MaxPooling3D\n",
    "from tensorflow.keras.layers import Conv3D, Conv3DTranspose\n",
    "from tensorflow.keras.layers import BatchNormalization\n",
    "from tensorflow.keras.layers import Activation, Dropout\n",
    "from tensorflow.keras.layers import concatenate\n",
    "from tensorflow.keras import backend as K\n",
    "from tensorflow.keras.regularizers import l2\n",
    "from tensorflow.keras.utils import plot_model\n",
    "\n",
    "\n",
    "def denseBlock(t, nb_layers):\n",
    "    for _ in range(nb_layers):\n",
    "        tmp = t\n",
    "        t = BatchNormalization(axis=1,\n",
    "                                gamma_regularizer=l2(0.0001),\n",
    "                                beta_regularizer=l2(0.0001))(t)\n",
    "\n",
    "        t = Activation('relu')(t)\n",
    "        t = Conv3D(16, kernel_size=(3, 3, 3), padding='same', kernel_initializer='he_uniform', data_format='channels_last')(t)\n",
    "        t = Dropout(0.2)(t)\n",
    "        t = concatenate([t, tmp])\n",
    "    return t\n",
    "\n",
    "def transitionDown(t, nb_features):\n",
    "    t = BatchNormalization(axis=1,\n",
    "                            gamma_regularizer=l2(0.0001),\n",
    "                            beta_regularizer=l2(0.0001))(t)\n",
    "    t = Activation('relu')(t)\n",
    "    t = Conv3D(nb_features, kernel_size=(1, 1, 1), padding='same', kernel_initializer='he_uniform', data_format='channels_last')(t)\n",
    "    t = Dropout(0.2)(t)\n",
    "    #t = MaxPooling3D(pool_size=(2, 2, 2), strides=2, padding='same', data_format='channels_last')(t)\n",
    "    t = Conv3D(nb_features, kernel_size=(1, 1, 1),strides=(2,2,1), padding='same', data_format='channels_last')(t)\n",
    "    \n",
    "    return t\n",
    "\n",
    "def Tiramisu3D(layer_per_block, n_pool=4, growth_rate=16):\n",
    "    input_layer = Input(shape=(128, 128, 48, 2))\n",
    "    t = Conv3D(48, kernel_size=(3, 3, 3), strides=(1, 1, 1), padding='same')(input_layer)\n",
    "\n",
    "    #dense block\n",
    "    nb_features = 48\n",
    "    skip_connections = []\n",
    "    for i in range(n_pool):\n",
    "        t = denseBlock(t, layer_per_block[i])\n",
    "        skip_connections.append(t)\n",
    "        nb_features += growth_rate * layer_per_block[i]\n",
    "        t = transitionDown(t, nb_features)\n",
    "\n",
    "    t = denseBlock(t, layer_per_block[n_pool]) # bottle neck\n",
    "\n",
    "    skip_connections = skip_connections[::-1] #subvert the array\n",
    "\n",
    "    for i in range(n_pool):\n",
    "        keep_nb_features = growth_rate * layer_per_block[n_pool + i]\n",
    "        t = Conv3DTranspose(keep_nb_features, strides=(2,2,1), kernel_size=(3, 3, 3), padding='same', data_format='channels_last')(t) # transition Up\n",
    "        t = concatenate([t, skip_connections[i]])\n",
    "\n",
    "        t = denseBlock(t, layer_per_block[n_pool+i+1])\n",
    "\n",
    "    t = Conv3D(12, kernel_size=(1, 1, 1), padding='same', kernel_initializer='he_uniform', data_format='channels_last')(t)\n",
    "    output_layer = Activation('softmax')(t)\n",
    "    return Model(inputs=input_layer, outputs=output_layer)\n",
    "\n",
    "layer_per_block =  [3, 4, 5, 6, 7, 6, 5, 4, 3]\n",
    "#layer_per_block = [4, 5, 7, 10, 12, 15, 12, 10, 7, 5, 4]\n",
    "tiramisu = Tiramisu3D(layer_per_block)"
   ]
  },
  {
   "cell_type": "code",
   "execution_count": null,
   "metadata": {},
   "outputs": [],
   "source": []
  }
 ],
 "metadata": {
  "kernelspec": {
   "display_name": "Python 3",
   "language": "python",
   "name": "python3"
  },
  "language_info": {
   "codemirror_mode": {
    "name": "ipython",
    "version": 3
   },
   "file_extension": ".py",
   "mimetype": "text/x-python",
   "name": "python",
   "nbconvert_exporter": "python",
   "pygments_lexer": "ipython3",
   "version": "3.6.9"
  }
 },
 "nbformat": 4,
 "nbformat_minor": 4
}
