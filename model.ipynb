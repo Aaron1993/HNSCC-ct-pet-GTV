{
 "cells": [
  {
   "cell_type": "code",
   "execution_count": null,
   "metadata": {},
   "outputs": [],
   "source": [
    "import tensorflow as tf\n",
    "import tensorflow.keras as keras\n",
    "\n",
    "from tensorflow.keras import Model, Input\n",
    "from tensorflow.keras.layers import Dense, Flatten, Conv3D, MaxPooling3D, concatenate, Conv3DTranspose\n",
    "from tensorflow.keras.optimizers import Adam"
   ]
  },
  {
   "cell_type": "code",
   "execution_count": null,
   "metadata": {},
   "outputs": [],
   "source": []
  },
  {
   "cell_type": "code",
   "execution_count": null,
   "metadata": {},
   "outputs": [],
   "source": []
  },
  {
   "cell_type": "code",
   "execution_count": null,
   "metadata": {},
   "outputs": [],
   "source": []
  },
  {
   "cell_type": "code",
   "execution_count": null,
   "metadata": {},
   "outputs": [],
   "source": []
  },
  {
   "cell_type": "markdown",
   "metadata": {},
   "source": [
    "## Densely 3D Unet"
   ]
  },
  {
   "cell_type": "code",
   "execution_count": 1,
   "metadata": {},
   "outputs": [],
   "source": [
    "from tensorflow.keras.models import Model\n",
    "from tensorflow.keras.layers import Input, MaxPooling3D\n",
    "from tensorflow.keras.layers import Conv3D, Conv3DTranspose\n",
    "from tensorflow.keras.layers import BatchNormalization\n",
    "from tensorflow.keras.layers import Activation, Dropout\n",
    "from tensorflow.keras.layers import concatenate\n",
    "from tensorflow.keras import backend as K\n",
    "from tensorflow.keras.regularizers import l2\n",
    "from tensorflow.keras.utils import plot_model\n",
    "\n",
    "\n",
    "def denseBlock(t, nb_layers):\n",
    "    for _ in range(nb_layers):\n",
    "        tmp = t\n",
    "        t = BatchNormalization(axis=1,\n",
    "                                gamma_regularizer=l2(0.0001),\n",
    "                                beta_regularizer=l2(0.0001))(t)\n",
    "\n",
    "        t = Activation('relu')(t)\n",
    "        t = Conv3D(16, kernel_size=(3, 3, 3), padding='same', kernel_initializer='he_uniform', data_format='channels_last')(t)\n",
    "        t = Dropout(0.2)(t)\n",
    "        t = concatenate([t, tmp])\n",
    "    return t\n",
    "\n",
    "def transitionDown(t, nb_features):\n",
    "    t = BatchNormalization(axis=1,\n",
    "                            gamma_regularizer=l2(0.0001),\n",
    "                            beta_regularizer=l2(0.0001))(t)\n",
    "    t = Activation('relu')(t)\n",
    "    t = Conv3D(nb_features, kernel_size=(1, 1, 1), padding='same', kernel_initializer='he_uniform', data_format='channels_last')(t)\n",
    "    t = Dropout(0.2)(t)\n",
    "    #t = MaxPooling3D(pool_size=(2, 2, 2), strides=2, padding='same', data_format='channels_last')(t)\n",
    "    t = Conv3D(nb_features, kernel_size=(1, 1, 1),strides=(2,2,1), padding='same', data_format='channels_last')(t)\n",
    "    \n",
    "    return t\n",
    "\n",
    "def Tiramisu3D(layer_per_block, n_pool=4, growth_rate=16):\n",
    "    input_layer = Input(shape=(128, 128, 48, 2))\n",
    "    t = Conv3D(48, kernel_size=(3, 3, 3), strides=(1, 1, 1), padding='same')(input_layer)\n",
    "\n",
    "    #dense block\n",
    "    nb_features = 48\n",
    "    skip_connections = []\n",
    "    for i in range(n_pool):\n",
    "        t = denseBlock(t, layer_per_block[i])\n",
    "        skip_connections.append(t)\n",
    "        nb_features += growth_rate * layer_per_block[i]\n",
    "        t = transitionDown(t, nb_features)\n",
    "\n",
    "    t = denseBlock(t, layer_per_block[n_pool]) # bottle neck\n",
    "\n",
    "    skip_connections = skip_connections[::-1] #subvert the array\n",
    "\n",
    "    for i in range(n_pool):\n",
    "        keep_nb_features = growth_rate * layer_per_block[n_pool + i]\n",
    "        t = Conv3DTranspose(keep_nb_features, strides=(2,2,1), kernel_size=(3, 3, 3), padding='same', data_format='channels_last')(t) # transition Up\n",
    "        t = concatenate([t, skip_connections[i]])\n",
    "\n",
    "        t = denseBlock(t, layer_per_block[n_pool+i+1])\n",
    "\n",
    "    t = Conv3D(12, kernel_size=(1, 1, 1), padding='same', kernel_initializer='he_uniform', data_format='channels_last')(t)\n",
    "    output_layer = Activation('softmax')(t)\n",
    "    return Model(inputs=input_layer, outputs=output_layer)\n",
    "\n",
    "layer_per_block =  [3, 4, 5, 6, 7, 6, 5, 4, 3]\n",
    "#layer_per_block = [4, 5, 7, 10, 12, 15, 12, 10, 7, 5, 4]\n",
    "tiramisu = Tiramisu3D(layer_per_block)"
   ]
  },
  {
   "cell_type": "code",
   "execution_count": null,
   "metadata": {},
   "outputs": [],
   "source": []
  }
 ],
 "metadata": {
  "kernelspec": {
   "display_name": "Python 3",
   "language": "python",
   "name": "python3"
  },
  "language_info": {
   "codemirror_mode": {
    "name": "ipython",
    "version": 3
   },
   "file_extension": ".py",
   "mimetype": "text/x-python",
   "name": "python",
   "nbconvert_exporter": "python",
   "pygments_lexer": "ipython3",
   "version": "3.6.9"
  }
 },
 "nbformat": 4,
 "nbformat_minor": 4
}
